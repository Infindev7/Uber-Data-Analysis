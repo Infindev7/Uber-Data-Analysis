{
 "cells": [
  {
   "cell_type": "markdown",
   "id": "e559eb1f",
   "metadata": {},
   "source": [
    "## Analysing Lyft Data in 2014"
   ]
  },
  {
   "cell_type": "code",
   "execution_count": 1,
   "id": "e876dd5b",
   "metadata": {},
   "outputs": [],
   "source": [
    "import pandas as pd\n",
    "import matplotlib.pyplot as plt"
   ]
  },
  {
   "cell_type": "code",
   "execution_count": 2,
   "id": "4427e11b",
   "metadata": {},
   "outputs": [],
   "source": [
    "import numpy as np"
   ]
  },
  {
   "cell_type": "code",
   "execution_count": 3,
   "id": "e8426166",
   "metadata": {},
   "outputs": [],
   "source": [
    "df = pd.read_csv('Lyft2014.csv')"
   ]
  },
  {
   "cell_type": "code",
   "execution_count": 4,
   "id": "398770aa",
   "metadata": {},
   "outputs": [
    {
     "data": {
      "text/html": [
       "<div>\n",
       "<style scoped>\n",
       "    .dataframe tbody tr th:only-of-type {\n",
       "        vertical-align: middle;\n",
       "    }\n",
       "\n",
       "    .dataframe tbody tr th {\n",
       "        vertical-align: top;\n",
       "    }\n",
       "\n",
       "    .dataframe thead th {\n",
       "        text-align: right;\n",
       "    }\n",
       "</style>\n",
       "<table border=\"1\" class=\"dataframe\">\n",
       "  <thead>\n",
       "    <tr style=\"text-align: right;\">\n",
       "      <th></th>\n",
       "      <th>time_of_trip</th>\n",
       "      <th>start_lat</th>\n",
       "      <th>start_lng</th>\n",
       "      <th>Unnamed: 3</th>\n",
       "    </tr>\n",
       "  </thead>\n",
       "  <tbody>\n",
       "    <tr>\n",
       "      <th>0</th>\n",
       "      <td>9/4/2014 9:51</td>\n",
       "      <td>40.64705</td>\n",
       "      <td>-73.77988</td>\n",
       "      <td>NaN</td>\n",
       "    </tr>\n",
       "    <tr>\n",
       "      <th>1</th>\n",
       "      <td>8/27/2014 21:13</td>\n",
       "      <td>40.74916</td>\n",
       "      <td>-73.98373</td>\n",
       "      <td>NaN</td>\n",
       "    </tr>\n",
       "    <tr>\n",
       "      <th>2</th>\n",
       "      <td>9/4/2014 14:16</td>\n",
       "      <td>40.64065</td>\n",
       "      <td>-73.97594</td>\n",
       "      <td>NaN</td>\n",
       "    </tr>\n",
       "    <tr>\n",
       "      <th>3</th>\n",
       "      <td>9/4/2014 16:08</td>\n",
       "      <td>40.75002</td>\n",
       "      <td>-73.99514</td>\n",
       "      <td>NaN</td>\n",
       "    </tr>\n",
       "    <tr>\n",
       "      <th>4</th>\n",
       "      <td>8/28/2014 2:41</td>\n",
       "      <td>40.76715</td>\n",
       "      <td>-73.98636</td>\n",
       "      <td>NaN</td>\n",
       "    </tr>\n",
       "  </tbody>\n",
       "</table>\n",
       "</div>"
      ],
      "text/plain": [
       "      time_of_trip  start_lat  start_lng Unnamed: 3\n",
       "0    9/4/2014 9:51   40.64705  -73.77988        NaN\n",
       "1  8/27/2014 21:13   40.74916  -73.98373        NaN\n",
       "2   9/4/2014 14:16   40.64065  -73.97594        NaN\n",
       "3   9/4/2014 16:08   40.75002  -73.99514        NaN\n",
       "4   8/28/2014 2:41   40.76715  -73.98636        NaN"
      ]
     },
     "execution_count": 4,
     "metadata": {},
     "output_type": "execute_result"
    }
   ],
   "source": [
    "df.head()"
   ]
  },
  {
   "cell_type": "code",
   "execution_count": 5,
   "id": "01f2b916",
   "metadata": {},
   "outputs": [],
   "source": [
    "df['time_of_trip'] = pd.to_datetime(df['time_of_trip'])"
   ]
  },
  {
   "cell_type": "code",
   "execution_count": 6,
   "id": "0836d322",
   "metadata": {},
   "outputs": [],
   "source": [
    "df['day'] = df['time_of_trip'].dt.day\n",
    "df['month'] = df['time_of_trip'].dt.month\n",
    "df['year'] = df['time_of_trip'].dt.year\n",
    "df['time'] = df['time_of_trip'].dt.time"
   ]
  },
  {
   "cell_type": "code",
   "execution_count": 7,
   "id": "4037f6b4",
   "metadata": {},
   "outputs": [
    {
     "data": {
      "text/html": [
       "<div>\n",
       "<style scoped>\n",
       "    .dataframe tbody tr th:only-of-type {\n",
       "        vertical-align: middle;\n",
       "    }\n",
       "\n",
       "    .dataframe tbody tr th {\n",
       "        vertical-align: top;\n",
       "    }\n",
       "\n",
       "    .dataframe thead th {\n",
       "        text-align: right;\n",
       "    }\n",
       "</style>\n",
       "<table border=\"1\" class=\"dataframe\">\n",
       "  <thead>\n",
       "    <tr style=\"text-align: right;\">\n",
       "      <th></th>\n",
       "      <th>time_of_trip</th>\n",
       "      <th>start_lat</th>\n",
       "      <th>start_lng</th>\n",
       "      <th>Unnamed: 3</th>\n",
       "      <th>day</th>\n",
       "      <th>month</th>\n",
       "      <th>year</th>\n",
       "      <th>time</th>\n",
       "    </tr>\n",
       "  </thead>\n",
       "  <tbody>\n",
       "    <tr>\n",
       "      <th>0</th>\n",
       "      <td>2014-09-04 09:51:00</td>\n",
       "      <td>40.64705</td>\n",
       "      <td>-73.77988</td>\n",
       "      <td>NaN</td>\n",
       "      <td>4</td>\n",
       "      <td>9</td>\n",
       "      <td>2014</td>\n",
       "      <td>09:51:00</td>\n",
       "    </tr>\n",
       "    <tr>\n",
       "      <th>1</th>\n",
       "      <td>2014-08-27 21:13:00</td>\n",
       "      <td>40.74916</td>\n",
       "      <td>-73.98373</td>\n",
       "      <td>NaN</td>\n",
       "      <td>27</td>\n",
       "      <td>8</td>\n",
       "      <td>2014</td>\n",
       "      <td>21:13:00</td>\n",
       "    </tr>\n",
       "    <tr>\n",
       "      <th>2</th>\n",
       "      <td>2014-09-04 14:16:00</td>\n",
       "      <td>40.64065</td>\n",
       "      <td>-73.97594</td>\n",
       "      <td>NaN</td>\n",
       "      <td>4</td>\n",
       "      <td>9</td>\n",
       "      <td>2014</td>\n",
       "      <td>14:16:00</td>\n",
       "    </tr>\n",
       "    <tr>\n",
       "      <th>3</th>\n",
       "      <td>2014-09-04 16:08:00</td>\n",
       "      <td>40.75002</td>\n",
       "      <td>-73.99514</td>\n",
       "      <td>NaN</td>\n",
       "      <td>4</td>\n",
       "      <td>9</td>\n",
       "      <td>2014</td>\n",
       "      <td>16:08:00</td>\n",
       "    </tr>\n",
       "    <tr>\n",
       "      <th>4</th>\n",
       "      <td>2014-08-28 02:41:00</td>\n",
       "      <td>40.76715</td>\n",
       "      <td>-73.98636</td>\n",
       "      <td>NaN</td>\n",
       "      <td>28</td>\n",
       "      <td>8</td>\n",
       "      <td>2014</td>\n",
       "      <td>02:41:00</td>\n",
       "    </tr>\n",
       "  </tbody>\n",
       "</table>\n",
       "</div>"
      ],
      "text/plain": [
       "         time_of_trip  start_lat  start_lng Unnamed: 3  day  month  year  \\\n",
       "0 2014-09-04 09:51:00   40.64705  -73.77988        NaN    4      9  2014   \n",
       "1 2014-08-27 21:13:00   40.74916  -73.98373        NaN   27      8  2014   \n",
       "2 2014-09-04 14:16:00   40.64065  -73.97594        NaN    4      9  2014   \n",
       "3 2014-09-04 16:08:00   40.75002  -73.99514        NaN    4      9  2014   \n",
       "4 2014-08-28 02:41:00   40.76715  -73.98636        NaN   28      8  2014   \n",
       "\n",
       "       time  \n",
       "0  09:51:00  \n",
       "1  21:13:00  \n",
       "2  14:16:00  \n",
       "3  16:08:00  \n",
       "4  02:41:00  "
      ]
     },
     "execution_count": 7,
     "metadata": {},
     "output_type": "execute_result"
    }
   ],
   "source": [
    "df.head()"
   ]
  },
  {
   "cell_type": "code",
   "execution_count": 8,
   "id": "3ce6c793",
   "metadata": {},
   "outputs": [],
   "source": [
    "df.drop(columns='time_of_trip',inplace=True)"
   ]
  },
  {
   "cell_type": "code",
   "execution_count": 9,
   "id": "83ad3fc9",
   "metadata": {},
   "outputs": [
    {
     "data": {
      "text/html": [
       "<div>\n",
       "<style scoped>\n",
       "    .dataframe tbody tr th:only-of-type {\n",
       "        vertical-align: middle;\n",
       "    }\n",
       "\n",
       "    .dataframe tbody tr th {\n",
       "        vertical-align: top;\n",
       "    }\n",
       "\n",
       "    .dataframe thead th {\n",
       "        text-align: right;\n",
       "    }\n",
       "</style>\n",
       "<table border=\"1\" class=\"dataframe\">\n",
       "  <thead>\n",
       "    <tr style=\"text-align: right;\">\n",
       "      <th></th>\n",
       "      <th>start_lat</th>\n",
       "      <th>start_lng</th>\n",
       "      <th>Unnamed: 3</th>\n",
       "      <th>day</th>\n",
       "      <th>month</th>\n",
       "      <th>year</th>\n",
       "      <th>time</th>\n",
       "    </tr>\n",
       "  </thead>\n",
       "  <tbody>\n",
       "    <tr>\n",
       "      <th>0</th>\n",
       "      <td>40.64705</td>\n",
       "      <td>-73.77988</td>\n",
       "      <td>NaN</td>\n",
       "      <td>4</td>\n",
       "      <td>9</td>\n",
       "      <td>2014</td>\n",
       "      <td>09:51:00</td>\n",
       "    </tr>\n",
       "    <tr>\n",
       "      <th>1</th>\n",
       "      <td>40.74916</td>\n",
       "      <td>-73.98373</td>\n",
       "      <td>NaN</td>\n",
       "      <td>27</td>\n",
       "      <td>8</td>\n",
       "      <td>2014</td>\n",
       "      <td>21:13:00</td>\n",
       "    </tr>\n",
       "    <tr>\n",
       "      <th>2</th>\n",
       "      <td>40.64065</td>\n",
       "      <td>-73.97594</td>\n",
       "      <td>NaN</td>\n",
       "      <td>4</td>\n",
       "      <td>9</td>\n",
       "      <td>2014</td>\n",
       "      <td>14:16:00</td>\n",
       "    </tr>\n",
       "    <tr>\n",
       "      <th>3</th>\n",
       "      <td>40.75002</td>\n",
       "      <td>-73.99514</td>\n",
       "      <td>NaN</td>\n",
       "      <td>4</td>\n",
       "      <td>9</td>\n",
       "      <td>2014</td>\n",
       "      <td>16:08:00</td>\n",
       "    </tr>\n",
       "    <tr>\n",
       "      <th>4</th>\n",
       "      <td>40.76715</td>\n",
       "      <td>-73.98636</td>\n",
       "      <td>NaN</td>\n",
       "      <td>28</td>\n",
       "      <td>8</td>\n",
       "      <td>2014</td>\n",
       "      <td>02:41:00</td>\n",
       "    </tr>\n",
       "  </tbody>\n",
       "</table>\n",
       "</div>"
      ],
      "text/plain": [
       "   start_lat  start_lng Unnamed: 3  day  month  year      time\n",
       "0   40.64705  -73.77988        NaN    4      9  2014  09:51:00\n",
       "1   40.74916  -73.98373        NaN   27      8  2014  21:13:00\n",
       "2   40.64065  -73.97594        NaN    4      9  2014  14:16:00\n",
       "3   40.75002  -73.99514        NaN    4      9  2014  16:08:00\n",
       "4   40.76715  -73.98636        NaN   28      8  2014  02:41:00"
      ]
     },
     "execution_count": 9,
     "metadata": {},
     "output_type": "execute_result"
    }
   ],
   "source": [
    "df.head()"
   ]
  },
  {
   "cell_type": "code",
   "execution_count": 10,
   "id": "50a0c06e",
   "metadata": {},
   "outputs": [],
   "source": [
    "df.drop(columns='Unnamed: 3', inplace=True)"
   ]
  },
  {
   "cell_type": "code",
   "execution_count": 11,
   "id": "31617243",
   "metadata": {},
   "outputs": [
    {
     "data": {
      "text/html": [
       "<div>\n",
       "<style scoped>\n",
       "    .dataframe tbody tr th:only-of-type {\n",
       "        vertical-align: middle;\n",
       "    }\n",
       "\n",
       "    .dataframe tbody tr th {\n",
       "        vertical-align: top;\n",
       "    }\n",
       "\n",
       "    .dataframe thead th {\n",
       "        text-align: right;\n",
       "    }\n",
       "</style>\n",
       "<table border=\"1\" class=\"dataframe\">\n",
       "  <thead>\n",
       "    <tr style=\"text-align: right;\">\n",
       "      <th></th>\n",
       "      <th>start_lat</th>\n",
       "      <th>start_lng</th>\n",
       "      <th>day</th>\n",
       "      <th>month</th>\n",
       "      <th>year</th>\n",
       "      <th>time</th>\n",
       "    </tr>\n",
       "  </thead>\n",
       "  <tbody>\n",
       "    <tr>\n",
       "      <th>0</th>\n",
       "      <td>40.64705</td>\n",
       "      <td>-73.77988</td>\n",
       "      <td>4</td>\n",
       "      <td>9</td>\n",
       "      <td>2014</td>\n",
       "      <td>09:51:00</td>\n",
       "    </tr>\n",
       "    <tr>\n",
       "      <th>1</th>\n",
       "      <td>40.74916</td>\n",
       "      <td>-73.98373</td>\n",
       "      <td>27</td>\n",
       "      <td>8</td>\n",
       "      <td>2014</td>\n",
       "      <td>21:13:00</td>\n",
       "    </tr>\n",
       "    <tr>\n",
       "      <th>2</th>\n",
       "      <td>40.64065</td>\n",
       "      <td>-73.97594</td>\n",
       "      <td>4</td>\n",
       "      <td>9</td>\n",
       "      <td>2014</td>\n",
       "      <td>14:16:00</td>\n",
       "    </tr>\n",
       "    <tr>\n",
       "      <th>3</th>\n",
       "      <td>40.75002</td>\n",
       "      <td>-73.99514</td>\n",
       "      <td>4</td>\n",
       "      <td>9</td>\n",
       "      <td>2014</td>\n",
       "      <td>16:08:00</td>\n",
       "    </tr>\n",
       "    <tr>\n",
       "      <th>4</th>\n",
       "      <td>40.76715</td>\n",
       "      <td>-73.98636</td>\n",
       "      <td>28</td>\n",
       "      <td>8</td>\n",
       "      <td>2014</td>\n",
       "      <td>02:41:00</td>\n",
       "    </tr>\n",
       "  </tbody>\n",
       "</table>\n",
       "</div>"
      ],
      "text/plain": [
       "   start_lat  start_lng  day  month  year      time\n",
       "0   40.64705  -73.77988    4      9  2014  09:51:00\n",
       "1   40.74916  -73.98373   27      8  2014  21:13:00\n",
       "2   40.64065  -73.97594    4      9  2014  14:16:00\n",
       "3   40.75002  -73.99514    4      9  2014  16:08:00\n",
       "4   40.76715  -73.98636   28      8  2014  02:41:00"
      ]
     },
     "execution_count": 11,
     "metadata": {},
     "output_type": "execute_result"
    }
   ],
   "source": [
    "df.head()"
   ]
  },
  {
   "cell_type": "code",
   "execution_count": 14,
   "id": "3a4e7276",
   "metadata": {},
   "outputs": [
    {
     "data": {
      "text/plain": [
       "month\n",
       "8    147448\n",
       "9    115999\n",
       "7      4254\n",
       "Name: count, dtype: int64"
      ]
     },
     "execution_count": 14,
     "metadata": {},
     "output_type": "execute_result"
    }
   ],
   "source": [
    "df['month'].value_counts()"
   ]
  },
  {
   "cell_type": "code",
   "execution_count": 15,
   "id": "37e8e1db",
   "metadata": {},
   "outputs": [],
   "source": [
    "Ljul14 = df[df['month'] == 7]['day'].value_counts().to_dict()\n",
    "Laug14 = df[df['month'] == 8]['day'].value_counts().to_dict()\n",
    "Lsep14 = df[df['month'] == 9]['day'].value_counts().to_dict()"
   ]
  },
  {
   "cell_type": "code",
   "execution_count": 27,
   "id": "cdbc24ff",
   "metadata": {},
   "outputs": [],
   "source": [
    "Lmid = []\n",
    "Lavg = []"
   ]
  },
  {
   "cell_type": "code",
   "execution_count": 19,
   "id": "d4d4dff3",
   "metadata": {},
   "outputs": [],
   "source": [
    "Ljul14 = dict(sorted(Ljul14.items()))\n",
    "Laug14 = dict(sorted(Laug14.items()))\n",
    "Lsep14 = dict(sorted(Lsep14.items()))"
   ]
  },
  {
   "cell_type": "code",
   "execution_count": 28,
   "id": "98a834bd",
   "metadata": {},
   "outputs": [],
   "source": [
    "avg = np.mean(list(Ljul14.values()))\n",
    "Lavg.append(avg)\n",
    "avg = np.mean(list(Laug14.values()))\n",
    "Lavg.append(avg)\n",
    "avg = np.mean(list(Lsep14.values()))\n",
    "Lavg.append(avg)"
   ]
  },
  {
   "cell_type": "code",
   "execution_count": 29,
   "id": "8b2c37b0",
   "metadata": {},
   "outputs": [],
   "source": [
    "mid = np.median(list(Ljul14.values()))\n",
    "Lmid.append(mid)\n",
    "mid = np.median(list(Laug14.values()))\n",
    "Lmid.append(mid)\n",
    "mid = np.median(list(Lsep14.values()))\n",
    "Lmid.append(mid)"
   ]
  },
  {
   "cell_type": "code",
   "execution_count": 24,
   "id": "5ef83923",
   "metadata": {},
   "outputs": [
    {
     "data": {
      "image/png": "[encoded data removed]",
      "text/plain": [
       "<Figure size 640x480 with 1 Axes>"
      ]
     },
     "metadata": {},
     "output_type": "display_data"
    }
   ],
   "source": [
    "x,y = [] , []\n",
    "for i,j in Ljul14.items():\n",
    "    x.append(i)\n",
    "    y.append(j)\n",
    "\n",
    "plt.title('Lyft: July 14 Pickups')\n",
    "plt.ylabel('No. of Pickups')\n",
    "plt.xlabel('Day')\n",
    "plt.bar(x, y, edgecolor='black', color=plt.cm.Blues(np.linspace(0.5, 1, len(x))), width=0.6)\n",
    "plt.show()"
   ]
  },
  {
   "cell_type": "code",
   "execution_count": 25,
   "id": "6a8b093e",
   "metadata": {},
   "outputs": [
    {
     "data": {
      "image/png": "[encoded data removed]",
      "text/plain": [
       "<Figure size 640x480 with 1 Axes>"
      ]
     },
     "metadata": {},
     "output_type": "display_data"
    }
   ],
   "source": [
    "x,y = [] , []\n",
    "for i,j in Laug14.items():\n",
    "    x.append(i)\n",
    "    y.append(j)\n",
    "\n",
    "plt.title('Lyft: August 14 Pickups')\n",
    "plt.ylabel('No. of Pickups')\n",
    "plt.xlabel('Day')\n",
    "plt.bar(x, y, edgecolor='black', color=plt.cm.Blues(np.linspace(0.5, 1, len(x))), width=0.6)\n",
    "plt.show()"
   ]
  },
  {
   "cell_type": "code",
   "execution_count": 26,
   "id": "96dce3cb",
   "metadata": {},
   "outputs": [
    {
     "data": {
      "image/png": "[encoded data removed]",
      "text/plain": [
       "<Figure size 640x480 with 1 Axes>"
      ]
     },
     "metadata": {},
     "output_type": "display_data"
    }
   ],
   "source": [
    "x,y = [] , []\n",
    "for i,j in Lsep14.items():\n",
    "    x.append(i)\n",
    "    y.append(j)\n",
    "\n",
    "plt.title('Lyft: September 14 Pickups')\n",
    "plt.ylabel('No. of Pickups')\n",
    "plt.xlabel('Day')\n",
    "plt.bar(x, y, edgecolor='black', color=plt.cm.Blues(np.linspace(0.5, 1, len(x))), width=0.6)\n",
    "plt.show()"
   ]
  },
  {
   "cell_type": "code",
   "execution_count": 30,
   "id": "76384050",
   "metadata": {},
   "outputs": [
    {
     "data": {
      "image/png": "[encoded data removed]",
      "text/plain": [
       "<Figure size 640x480 with 1 Axes>"
      ]
     },
     "metadata": {},
     "output_type": "display_data"
    }
   ],
   "source": [
    "x1,y1 = [1,2,3] , Lavg\n",
    "x2,y2 = [1,2,3], Lmid\n",
    "\n",
    "plt.title('Lyft Jul to Sep, 2014')\n",
    "plt.ylabel('No. of Average/Median Pickups')\n",
    "plt.xlabel('Months')\n",
    "plt.plot(x1,y1,'o-',label='Mean Plot')\n",
    "plt.plot(x2,y2,'s-',label='Median Plot')\n",
    "plt.legend()\n",
    "plt.show()"
   ]
  },
  {
   "cell_type": "code",
   "execution_count": null,
   "id": "bd282ec6",
   "metadata": {},
   "outputs": [],
   "source": []
  }
 ],
 "metadata": {
  "kernelspec": {
   "display_name": ".venv",
   "language": "python",
   "name": "python3"
  },
  "language_info": {
   "codemirror_mode": {
    "name": "ipython",
    "version": 3
   },
   "file_extension": ".py",
   "mimetype": "text/x-python",
   "name": "python",
   "nbconvert_exporter": "python",
   "pygments_lexer": "ipython3",
   "version": "3.13.2"
  }
 },
 "nbformat": 4,
 "nbformat_minor": 5
}
