{
 "cells": [
  {
   "cell_type": "code",
   "execution_count": 6,
   "id": "2c38b1fd",
   "metadata": {},
   "outputs": [],
   "source": [
    "import pandas as pd\n",
    "import folium as fo"
   ]
  },
  {
   "cell_type": "code",
   "execution_count": 3,
   "id": "f311312c",
   "metadata": {},
   "outputs": [],
   "source": [
    "df = pd.read_csv('Datasets/April_14.csv')"
   ]
  },
  {
   "cell_type": "code",
   "execution_count": 4,
   "id": "abb355a6",
   "metadata": {},
   "outputs": [
    {
     "data": {
      "text/plain": [
       "(564516, 8)"
      ]
     },
     "execution_count": 4,
     "metadata": {},
     "output_type": "execute_result"
    }
   ],
   "source": [
    "df.shape"
   ]
  },
  {
   "cell_type": "code",
   "execution_count": 5,
   "id": "fdc077e4",
   "metadata": {},
   "outputs": [
    {
     "data": {
      "text/plain": [
       "Unnamed: 0    0\n",
       "Year          0\n",
       "Month         0\n",
       "Day           0\n",
       "Time          0\n",
       "Lat           0\n",
       "Lon           0\n",
       "Base          0\n",
       "dtype: int64"
      ]
     },
     "execution_count": 5,
     "metadata": {},
     "output_type": "execute_result"
    }
   ],
   "source": [
    "df.isna().sum()"
   ]
  },
  {
   "cell_type": "code",
   "execution_count": 9,
   "id": "28945a07",
   "metadata": {},
   "outputs": [],
   "source": [
    "#lat, lon = df[]\n",
    "m = fo.Map(location=(45.5236, -122.6750))\n",
    "m.save('index.html')"
   ]
  },
  {
   "cell_type": "code",
   "execution_count": null,
   "id": "438bb0a8",
   "metadata": {},
   "outputs": [],
   "source": []
  }
 ],
 "metadata": {
  "kernelspec": {
   "display_name": ".venv",
   "language": "python",
   "name": "python3"
  },
  "language_info": {
   "codemirror_mode": {
    "name": "ipython",
    "version": 3
   },
   "file_extension": ".py",
   "mimetype": "text/x-python",
   "name": "python",
   "nbconvert_exporter": "python",
   "pygments_lexer": "ipython3",
   "version": "3.13.2"
  }
 },
 "nbformat": 4,
 "nbformat_minor": 5
}
