{
 "cells": [
  {
   "cell_type": "code",
   "execution_count": 1,
   "id": "2c38b1fd",
   "metadata": {},
   "outputs": [],
   "source": [
    "import pandas as pd\n",
    "from geopy.geocoders import Nominatim"
   ]
  },
  {
   "cell_type": "code",
   "execution_count": 5,
   "id": "f311312c",
   "metadata": {},
   "outputs": [],
   "source": [
    "df = pd.read_csv('JanJune15.csv')\n",
    "tz = pd.read_csv('taxi-zones.csv')"
   ]
  },
  {
   "cell_type": "code",
   "execution_count": 6,
   "id": "abb355a6",
   "metadata": {},
   "outputs": [],
   "source": [
    "tz['address'] = tz['Zone'] + ',' + tz['Borough']"
   ]
  },
  {
   "cell_type": "code",
   "execution_count": 55,
   "id": "fdc077e4",
   "metadata": {},
   "outputs": [
    {
     "data": {
      "text/html": [
       "<div>\n",
       "<style scoped>\n",
       "    .dataframe tbody tr th:only-of-type {\n",
       "        vertical-align: middle;\n",
       "    }\n",
       "\n",
       "    .dataframe tbody tr th {\n",
       "        vertical-align: top;\n",
       "    }\n",
       "\n",
       "    .dataframe thead th {\n",
       "        text-align: right;\n",
       "    }\n",
       "</style>\n",
       "<table border=\"1\" class=\"dataframe\">\n",
       "  <thead>\n",
       "    <tr style=\"text-align: right;\">\n",
       "      <th></th>\n",
       "      <th>LocationID</th>\n",
       "      <th>Borough</th>\n",
       "      <th>Zone</th>\n",
       "      <th>address</th>\n",
       "      <th>lat</th>\n",
       "      <th>lon</th>\n",
       "    </tr>\n",
       "  </thead>\n",
       "  <tbody>\n",
       "    <tr>\n",
       "      <th>0</th>\n",
       "      <td>1</td>\n",
       "      <td>EWR</td>\n",
       "      <td>Newark Airport</td>\n",
       "      <td>Newark Airport,EWR, New York</td>\n",
       "      <td>40.689064</td>\n",
       "      <td>-74.177255</td>\n",
       "    </tr>\n",
       "    <tr>\n",
       "      <th>1</th>\n",
       "      <td>2</td>\n",
       "      <td>Queens</td>\n",
       "      <td>Jamaica Bay</td>\n",
       "      <td>Jamaica Bay,Queens, New York</td>\n",
       "      <td>40.603994</td>\n",
       "      <td>-73.835412</td>\n",
       "    </tr>\n",
       "    <tr>\n",
       "      <th>2</th>\n",
       "      <td>3</td>\n",
       "      <td>Bronx</td>\n",
       "      <td>Allerton/Pelham Gardens</td>\n",
       "      <td>Allerton/Pelham Gardens,Bronx, New York</td>\n",
       "      <td>NaN</td>\n",
       "      <td>NaN</td>\n",
       "    </tr>\n",
       "    <tr>\n",
       "      <th>3</th>\n",
       "      <td>4</td>\n",
       "      <td>Manhattan</td>\n",
       "      <td>Alphabet City</td>\n",
       "      <td>Alphabet City,Manhattan, New York</td>\n",
       "      <td>40.706964</td>\n",
       "      <td>-73.990459</td>\n",
       "    </tr>\n",
       "    <tr>\n",
       "      <th>4</th>\n",
       "      <td>5</td>\n",
       "      <td>Staten Island</td>\n",
       "      <td>Arden Heights</td>\n",
       "      <td>Arden Heights,Staten Island, New York</td>\n",
       "      <td>40.563700</td>\n",
       "      <td>-74.191603</td>\n",
       "    </tr>\n",
       "  </tbody>\n",
       "</table>\n",
       "</div>"
      ],
      "text/plain": [
       "   LocationID        Borough                     Zone  \\\n",
       "0           1            EWR           Newark Airport   \n",
       "1           2         Queens              Jamaica Bay   \n",
       "2           3          Bronx  Allerton/Pelham Gardens   \n",
       "3           4      Manhattan            Alphabet City   \n",
       "4           5  Staten Island            Arden Heights   \n",
       "\n",
       "                                   address        lat        lon  \n",
       "0             Newark Airport,EWR, New York  40.689064 -74.177255  \n",
       "1             Jamaica Bay,Queens, New York  40.603994 -73.835412  \n",
       "2  Allerton/Pelham Gardens,Bronx, New York        NaN        NaN  \n",
       "3        Alphabet City,Manhattan, New York  40.706964 -73.990459  \n",
       "4    Arden Heights,Staten Island, New York  40.563700 -74.191603  "
      ]
     },
     "execution_count": 55,
     "metadata": {},
     "output_type": "execute_result"
    }
   ],
   "source": [
    "tz.head()"
   ]
  },
  {
   "cell_type": "code",
   "execution_count": 51,
   "id": "28945a07",
   "metadata": {},
   "outputs": [],
   "source": [
    "geolocator = Nominatim(user_agent=\"myGeoLocator\")  # Replace \"myGeoLocator\" with a meaningful identifier for your application\n"
   ]
  },
  {
   "cell_type": "code",
   "execution_count": null,
   "id": "9aaf55c6",
   "metadata": {},
   "outputs": [],
   "source": [
    "lat = []\n",
    "lon = []\n",
    "for address in tz['address']:\n",
    "    location = geolocator.geocode(address)\n",
    "    if location:\n",
    "        lat.append(location.latitude)\n",
    "        lon.append(location.longitude)\n",
    "    else:\n",
    "        lat.append(None)\n",
    "        lon.append(None)\n"
   ]
  },
  {
   "cell_type": "code",
   "execution_count": null,
   "id": "7276f80b",
   "metadata": {},
   "outputs": [],
   "source": [
    "tz['lat'] = lat\n",
    "tz['lon'] = lon"
   ]
  },
  {
   "cell_type": "code",
   "execution_count": 68,
   "id": "c965d16c",
   "metadata": {},
   "outputs": [],
   "source": [
    "tz.to_csv('PickUps.csv')"
   ]
  },
  {
   "cell_type": "code",
   "execution_count": 62,
   "id": "177c9e21",
   "metadata": {},
   "outputs": [
    {
     "name": "stdout",
     "output_type": "stream",
     "text": [
      "2                Allerton/Pelham Gardens,Bronx, New York\n",
      "14              Bay Terrace/Fort Totten,Queens, New York\n",
      "20                   Bensonhurst East,Brooklyn, New York\n",
      "21                   Bensonhurst West,Brooklyn, New York\n",
      "22       Bloomfield/Emerson Hill,Staten Island, New York\n",
      "26     Breezy Point/Fort Tilden/Riis Beach,Queens, Ne...\n",
      "27              Briarwood/Jamaica Hills,Queens, New York\n",
      "35                     Bushwick North,Brooklyn, New York\n",
      "40                    Central Harlem,Manhattan, New York\n",
      "41              Central Harlem North,Manhattan, New York\n",
      "43        Charleston/Tottenville,Staten Island, New York\n",
      "46                    Claremont/Bathgate,Bronx, New York\n",
      "60                Crown Heights North,Brooklyn, New York\n",
      "61                Crown Heights South,Brooklyn, New York\n",
      "64        Downtown Brooklyn/MetroTech,Brooklyn, New York\n",
      "65                 DUMBO/Vinegar Hill,Brooklyn, New York\n",
      "70             East Flatbush/Farragut,Brooklyn, New York\n",
      "71       East Flatbush/Remsen Village,Brooklyn, New York\n",
      "73                 East Harlem North,Manhattan, New York\n",
      "74                 East Harlem South,Manhattan, New York\n",
      "83     Eltingville/Annadale/Prince's Bay,Staten Islan...\n",
      "86          Financial District North,Manhattan, New York\n",
      "93                         Fordham South,Bronx, New York\n",
      "95            Forest Park/Highland Park,Queens, New York\n",
      "102    Governor's Island/Ellis Island/Liberty Island,...\n",
      "103    Governor's Island/Ellis Island/Liberty Island,...\n",
      "104    Governor's Island/Ellis Island/Liberty Island,...\n",
      "116                     Hammels/Arverne,Queens, New York\n",
      "117    Heartland Village/Todt Hill,Staten Island, New...\n",
      "143              Little Italy/NoLiTa,Manhattan, New York\n",
      "145       Long Island City/Queens Plaza,Queens, New York\n",
      "153    Marine Park/Floyd Bennett Field,Brooklyn, New ...\n",
      "158                        Melrose South,Bronx, New York\n",
      "172                        North Corona,Queens, New York\n",
      "177               Ocean Parkway South,Brooklyn, New York\n",
      "178                         Old Astoria,Queens, New York\n",
      "185     Penn Station/Madison Sq West,Manhattan, New York\n",
      "199    Riverdale/North Riverdale/Fieldston,Bronx, New...\n",
      "206    Saint Michaels Cemetery/Woodside,Queens, New York\n",
      "211                   Soundview/Bruckner,Bronx, New York\n",
      "217           Springfield Gardens North,Queens, New York\n",
      "218           Springfield Gardens South,Queens, New York\n",
      "223    Stuy Town/Peter Cooper Village,Manhattan, New ...\n",
      "226                  Sunset Park East,Brooklyn, New York\n",
      "227                  Sunset Park West,Brooklyn, New York\n",
      "228    Sutton Place/Turtle Bay North,Manhattan, New York\n",
      "231          Two Bridges/Seward Park,Manhattan, New York\n",
      "232              UN/Turtle Bay South,Manhattan, New York\n",
      "235            Upper East Side North,Manhattan, New York\n",
      "236            Upper East Side South,Manhattan, New York\n",
      "237            Upper West Side North,Manhattan, New York\n",
      "238            Upper West Side South,Manhattan, New York\n",
      "240                Van Cortlandt Village,Bronx, New York\n",
      "242         Washington Heights North,Manhattan, New York\n",
      "243         Washington Heights South,Manhattan, New York\n",
      "249        Westchester Village/Unionport,Bronx, New York\n",
      "253             Williamsbridge/Olinville,Bronx, New York\n",
      "254         Williamsburg (North Side),Brooklyn, New York\n",
      "255         Williamsburg (South Side),Brooklyn, New York\n",
      "Name: address, dtype: object\n"
     ]
    }
   ],
   "source": [
    "null_addresses = tz[tz['lat'].isnull() | tz['lon'].isnull()]['address']\n",
    "print(null_addresses)"
   ]
  },
  {
   "cell_type": "code",
   "execution_count": null,
   "id": "4dbd5e29",
   "metadata": {},
   "outputs": [
    {
     "name": "stdout",
     "output_type": "stream",
     "text": [
      "{2: 'Allerton/Pelham Gardens,Bronx, New York', 14: 'Bay Terrace/Fort Totten,Queens, New York', 20: 'Bensonhurst East,Brooklyn, New York', 21: 'Bensonhurst West,Brooklyn, New York', 22: 'Bloomfield/Emerson Hill,Staten Island, New York', 26: 'Breezy Point/Fort Tilden/Riis Beach,Queens, New York', 27: 'Briarwood/Jamaica Hills,Queens, New York', 35: 'Bushwick North,Brooklyn, New York', 40: 'Central Harlem,Manhattan, New York', 41: 'Central Harlem North,Manhattan, New York', 43: 'Charleston/Tottenville,Staten Island, New York', 46: 'Claremont/Bathgate,Bronx, New York', 60: 'Crown Heights North,Brooklyn, New York', 61: 'Crown Heights South,Brooklyn, New York', 64: 'Downtown Brooklyn/MetroTech,Brooklyn, New York', 65: 'DUMBO/Vinegar Hill,Brooklyn, New York', 70: 'East Flatbush/Farragut,Brooklyn, New York', 71: 'East Flatbush/Remsen Village,Brooklyn, New York', 73: 'East Harlem North,Manhattan, New York', 74: 'East Harlem South,Manhattan, New York', 83: \"Eltingville/Annadale/Prince's Bay,Staten Island, New York\", 86: 'Financial District North,Manhattan, New York', 93: 'Fordham South,Bronx, New York', 95: 'Forest Park/Highland Park,Queens, New York', 102: \"Governor's Island/Ellis Island/Liberty Island,Manhattan, New York\", 103: \"Governor's Island/Ellis Island/Liberty Island,Manhattan, New York\", 104: \"Governor's Island/Ellis Island/Liberty Island,Manhattan, New York\", 116: 'Hammels/Arverne,Queens, New York', 117: 'Heartland Village/Todt Hill,Staten Island, New York', 143: 'Little Italy/NoLiTa,Manhattan, New York', 145: 'Long Island City/Queens Plaza,Queens, New York', 153: 'Marine Park/Floyd Bennett Field,Brooklyn, New York', 158: 'Melrose South,Bronx, New York', 172: 'North Corona,Queens, New York', 177: 'Ocean Parkway South,Brooklyn, New York', 178: 'Old Astoria,Queens, New York', 185: 'Penn Station/Madison Sq West,Manhattan, New York', 199: 'Riverdale/North Riverdale/Fieldston,Bronx, New York', 206: 'Saint Michaels Cemetery/Woodside,Queens, New York', 211: 'Soundview/Bruckner,Bronx, New York', 217: 'Springfield Gardens North,Queens, New York', 218: 'Springfield Gardens South,Queens, New York', 223: 'Stuy Town/Peter Cooper Village,Manhattan, New York', 226: 'Sunset Park East,Brooklyn, New York', 227: 'Sunset Park West,Brooklyn, New York', 228: 'Sutton Place/Turtle Bay North,Manhattan, New York', 231: 'Two Bridges/Seward Park,Manhattan, New York', 232: 'UN/Turtle Bay South,Manhattan, New York', 235: 'Upper East Side North,Manhattan, New York', 236: 'Upper East Side South,Manhattan, New York', 237: 'Upper West Side North,Manhattan, New York', 238: 'Upper West Side South,Manhattan, New York', 240: 'Van Cortlandt Village,Bronx, New York', 242: 'Washington Heights North,Manhattan, New York', 243: 'Washington Heights South,Manhattan, New York', 249: 'Westchester Village/Unionport,Bronx, New York', 253: 'Williamsbridge/Olinville,Bronx, New York', 254: 'Williamsburg (North Side),Brooklyn, New York', 255: 'Williamsburg (South Side),Brooklyn, New York'}\n"
     ]
    }
   ],
   "source": [
    "null_rows = tz[tz['lat'].isnull() | tz['lon'].isnull()]\n",
    "index_address_dict = null_rows['address'].to_dict()\n",
    "print(index_address_dict)\n",
    "with open('missing.txt','w') as f:\n",
    "    for key,value in index_address_dict.items():\n",
    "        f.write(f'{key} : {value}\\n')"
   ]
  },
  {
   "cell_type": "code",
   "execution_count": 61,
   "id": "3845f63e",
   "metadata": {},
   "outputs": [
    {
     "data": {
      "text/html": [
       "<div>\n",
       "<style scoped>\n",
       "    .dataframe tbody tr th:only-of-type {\n",
       "        vertical-align: middle;\n",
       "    }\n",
       "\n",
       "    .dataframe tbody tr th {\n",
       "        vertical-align: top;\n",
       "    }\n",
       "\n",
       "    .dataframe thead th {\n",
       "        text-align: right;\n",
       "    }\n",
       "</style>\n",
       "<table border=\"1\" class=\"dataframe\">\n",
       "  <thead>\n",
       "    <tr style=\"text-align: right;\">\n",
       "      <th></th>\n",
       "      <th>LocationID</th>\n",
       "      <th>Borough</th>\n",
       "      <th>Zone</th>\n",
       "      <th>address</th>\n",
       "      <th>lat</th>\n",
       "      <th>lon</th>\n",
       "    </tr>\n",
       "  </thead>\n",
       "  <tbody>\n",
       "    <tr>\n",
       "      <th>0</th>\n",
       "      <td>1</td>\n",
       "      <td>EWR</td>\n",
       "      <td>Newark Airport</td>\n",
       "      <td>Newark Airport,EWR, New York</td>\n",
       "      <td>40.689064</td>\n",
       "      <td>-74.177255</td>\n",
       "    </tr>\n",
       "    <tr>\n",
       "      <th>1</th>\n",
       "      <td>2</td>\n",
       "      <td>Queens</td>\n",
       "      <td>Jamaica Bay</td>\n",
       "      <td>Jamaica Bay,Queens, New York</td>\n",
       "      <td>40.603994</td>\n",
       "      <td>-73.835412</td>\n",
       "    </tr>\n",
       "    <tr>\n",
       "      <th>2</th>\n",
       "      <td>3</td>\n",
       "      <td>Bronx</td>\n",
       "      <td>Allerton/Pelham Gardens</td>\n",
       "      <td>Allerton/Pelham Gardens,Bronx, New York</td>\n",
       "      <td>NaN</td>\n",
       "      <td>NaN</td>\n",
       "    </tr>\n",
       "    <tr>\n",
       "      <th>3</th>\n",
       "      <td>4</td>\n",
       "      <td>Manhattan</td>\n",
       "      <td>Alphabet City</td>\n",
       "      <td>Alphabet City,Manhattan, New York</td>\n",
       "      <td>40.706964</td>\n",
       "      <td>-73.990459</td>\n",
       "    </tr>\n",
       "    <tr>\n",
       "      <th>4</th>\n",
       "      <td>5</td>\n",
       "      <td>Staten Island</td>\n",
       "      <td>Arden Heights</td>\n",
       "      <td>Arden Heights,Staten Island, New York</td>\n",
       "      <td>40.563700</td>\n",
       "      <td>-74.191603</td>\n",
       "    </tr>\n",
       "  </tbody>\n",
       "</table>\n",
       "</div>"
      ],
      "text/plain": [
       "   LocationID        Borough                     Zone  \\\n",
       "0           1            EWR           Newark Airport   \n",
       "1           2         Queens              Jamaica Bay   \n",
       "2           3          Bronx  Allerton/Pelham Gardens   \n",
       "3           4      Manhattan            Alphabet City   \n",
       "4           5  Staten Island            Arden Heights   \n",
       "\n",
       "                                   address        lat        lon  \n",
       "0             Newark Airport,EWR, New York  40.689064 -74.177255  \n",
       "1             Jamaica Bay,Queens, New York  40.603994 -73.835412  \n",
       "2  Allerton/Pelham Gardens,Bronx, New York        NaN        NaN  \n",
       "3        Alphabet City,Manhattan, New York  40.706964 -73.990459  \n",
       "4    Arden Heights,Staten Island, New York  40.563700 -74.191603  "
      ]
     },
     "execution_count": 61,
     "metadata": {},
     "output_type": "execute_result"
    }
   ],
   "source": [
    "tz.head()"
   ]
  },
  {
   "cell_type": "code",
   "execution_count": null,
   "id": "4d5bade4",
   "metadata": {},
   "outputs": [],
   "source": []
  }
 ],
 "metadata": {
  "kernelspec": {
   "display_name": ".venv",
   "language": "python",
   "name": "python3"
  },
  "language_info": {
   "codemirror_mode": {
    "name": "ipython",
    "version": 3
   },
   "file_extension": ".py",
   "mimetype": "text/x-python",
   "name": "python",
   "nbconvert_exporter": "python",
   "pygments_lexer": "ipython3",
   "version": "3.13.2"
  }
 },
 "nbformat": 4,
 "nbformat_minor": 5
}
