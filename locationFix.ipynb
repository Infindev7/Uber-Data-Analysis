{
 "cells": [
  {
   "cell_type": "code",
   "execution_count": 1,
   "id": "24ac58d7",
   "metadata": {},
   "outputs": [],
   "source": [
    "import pandas as pd"
   ]
  },
  {
   "cell_type": "code",
   "execution_count": 11,
   "id": "fd812628",
   "metadata": {},
   "outputs": [],
   "source": [
    "df1 = pd.read_csv('missing.csv',delimiter=':')\n",
    "df2 = pd.read_csv('missingFound.csv',delimiter='|')"
   ]
  },
  {
   "cell_type": "code",
   "execution_count": 8,
   "id": "c50a255b",
   "metadata": {},
   "outputs": [
    {
     "data": {
      "text/html": [
       "<div>\n",
       "<style scoped>\n",
       "    .dataframe tbody tr th:only-of-type {\n",
       "        vertical-align: middle;\n",
       "    }\n",
       "\n",
       "    .dataframe tbody tr th {\n",
       "        vertical-align: top;\n",
       "    }\n",
       "\n",
       "    .dataframe thead th {\n",
       "        text-align: right;\n",
       "    }\n",
       "</style>\n",
       "<table border=\"1\" class=\"dataframe\">\n",
       "  <thead>\n",
       "    <tr style=\"text-align: right;\">\n",
       "      <th></th>\n",
       "      <th>id</th>\n",
       "      <th>address</th>\n",
       "    </tr>\n",
       "  </thead>\n",
       "  <tbody>\n",
       "    <tr>\n",
       "      <th>0</th>\n",
       "      <td>2</td>\n",
       "      <td>Allerton/Pelham Gardens,Bronx, New York</td>\n",
       "    </tr>\n",
       "    <tr>\n",
       "      <th>1</th>\n",
       "      <td>14</td>\n",
       "      <td>Bay Terrace/Fort Totten,Queens, New York</td>\n",
       "    </tr>\n",
       "    <tr>\n",
       "      <th>2</th>\n",
       "      <td>20</td>\n",
       "      <td>Bensonhurst East,Brooklyn, New York</td>\n",
       "    </tr>\n",
       "    <tr>\n",
       "      <th>3</th>\n",
       "      <td>21</td>\n",
       "      <td>Bensonhurst West,Brooklyn, New York</td>\n",
       "    </tr>\n",
       "    <tr>\n",
       "      <th>4</th>\n",
       "      <td>22</td>\n",
       "      <td>Bloomfield/Emerson Hill,Staten Island, New York</td>\n",
       "    </tr>\n",
       "  </tbody>\n",
       "</table>\n",
       "</div>"
      ],
      "text/plain": [
       "   id                                           address\n",
       "0   2           Allerton/Pelham Gardens,Bronx, New York\n",
       "1  14          Bay Terrace/Fort Totten,Queens, New York\n",
       "2  20               Bensonhurst East,Brooklyn, New York\n",
       "3  21               Bensonhurst West,Brooklyn, New York\n",
       "4  22   Bloomfield/Emerson Hill,Staten Island, New York"
      ]
     },
     "execution_count": 8,
     "metadata": {},
     "output_type": "execute_result"
    }
   ],
   "source": [
    "df1.head()"
   ]
  },
  {
   "cell_type": "code",
   "execution_count": 9,
   "id": "39df7099",
   "metadata": {},
   "outputs": [
    {
     "data": {
      "text/html": [
       "<div>\n",
       "<style scoped>\n",
       "    .dataframe tbody tr th:only-of-type {\n",
       "        vertical-align: middle;\n",
       "    }\n",
       "\n",
       "    .dataframe tbody tr th {\n",
       "        vertical-align: top;\n",
       "    }\n",
       "\n",
       "    .dataframe thead th {\n",
       "        text-align: right;\n",
       "    }\n",
       "</style>\n",
       "<table border=\"1\" class=\"dataframe\">\n",
       "  <thead>\n",
       "    <tr style=\"text-align: right;\">\n",
       "      <th></th>\n",
       "      <th>id</th>\n",
       "      <th>address</th>\n",
       "      <th>Location</th>\n",
       "    </tr>\n",
       "  </thead>\n",
       "  <tbody>\n",
       "    <tr>\n",
       "      <th>0</th>\n",
       "      <td>2</td>\n",
       "      <td>Allerton/Pelham Gardens,Bronx, New York</td>\n",
       "      <td>40.8654218,-73.8545318</td>\n",
       "    </tr>\n",
       "    <tr>\n",
       "      <th>1</th>\n",
       "      <td>14</td>\n",
       "      <td>Bay Terrace/Fort Totten,Queens, New York</td>\n",
       "      <td>40.7920939,-73.7786745</td>\n",
       "    </tr>\n",
       "    <tr>\n",
       "      <th>2</th>\n",
       "      <td>20</td>\n",
       "      <td>Bensonhurst East,Brooklyn, New York</td>\n",
       "      <td>40.6146916,-74.0129784</td>\n",
       "    </tr>\n",
       "    <tr>\n",
       "      <th>3</th>\n",
       "      <td>21</td>\n",
       "      <td>Bensonhurst West,Brooklyn, New York</td>\n",
       "      <td>40.6146916,-74.0129784</td>\n",
       "    </tr>\n",
       "    <tr>\n",
       "      <th>4</th>\n",
       "      <td>22</td>\n",
       "      <td>Bloomfield/Emerson Hill,Staten Island, New York</td>\n",
       "      <td>40.6151637,-74.2592761</td>\n",
       "    </tr>\n",
       "  </tbody>\n",
       "</table>\n",
       "</div>"
      ],
      "text/plain": [
       "   id                                          address                Location\n",
       "0   2          Allerton/Pelham Gardens,Bronx, New York  40.8654218,-73.8545318\n",
       "1  14         Bay Terrace/Fort Totten,Queens, New York  40.7920939,-73.7786745\n",
       "2  20              Bensonhurst East,Brooklyn, New York  40.6146916,-74.0129784\n",
       "3  21              Bensonhurst West,Brooklyn, New York  40.6146916,-74.0129784\n",
       "4  22  Bloomfield/Emerson Hill,Staten Island, New York  40.6151637,-74.2592761"
      ]
     },
     "execution_count": 9,
     "metadata": {},
     "output_type": "execute_result"
    }
   ],
   "source": [
    "df2.head()"
   ]
  },
  {
   "cell_type": "markdown",
   "id": "af93a6a9",
   "metadata": {},
   "source": [
    "### Check if each value in missingFound.csv has its Location"
   ]
  },
  {
   "cell_type": "code",
   "execution_count": 12,
   "id": "f873e464",
   "metadata": {},
   "outputs": [
    {
     "name": "stdout",
     "output_type": "stream",
     "text": [
      "[]\n"
     ]
    }
   ],
   "source": [
    "missing = []\n",
    "for i in range(len(df1['id'])):\n",
    "    found = False\n",
    "    for j in range(len(df2['id'])):\n",
    "        if df1['id'][i] == df2['id'][j]:\n",
    "            found = True\n",
    "            break\n",
    "    if not found:\n",
    "        missing.append(df1['id'][i])\n",
    "\n",
    "print(missing)"
   ]
  },
  {
   "cell_type": "markdown",
   "id": "e52933eb",
   "metadata": {},
   "source": [
    "### Seperating locations"
   ]
  },
  {
   "cell_type": "code",
   "execution_count": 13,
   "id": "36f94f97",
   "metadata": {},
   "outputs": [
    {
     "data": {
      "text/html": [
       "<div>\n",
       "<style scoped>\n",
       "    .dataframe tbody tr th:only-of-type {\n",
       "        vertical-align: middle;\n",
       "    }\n",
       "\n",
       "    .dataframe tbody tr th {\n",
       "        vertical-align: top;\n",
       "    }\n",
       "\n",
       "    .dataframe thead th {\n",
       "        text-align: right;\n",
       "    }\n",
       "</style>\n",
       "<table border=\"1\" class=\"dataframe\">\n",
       "  <thead>\n",
       "    <tr style=\"text-align: right;\">\n",
       "      <th></th>\n",
       "      <th>id</th>\n",
       "      <th>address</th>\n",
       "      <th>Location</th>\n",
       "    </tr>\n",
       "  </thead>\n",
       "  <tbody>\n",
       "    <tr>\n",
       "      <th>0</th>\n",
       "      <td>2</td>\n",
       "      <td>Allerton/Pelham Gardens,Bronx, New York</td>\n",
       "      <td>40.8654218,-73.8545318</td>\n",
       "    </tr>\n",
       "    <tr>\n",
       "      <th>1</th>\n",
       "      <td>14</td>\n",
       "      <td>Bay Terrace/Fort Totten,Queens, New York</td>\n",
       "      <td>40.7920939,-73.7786745</td>\n",
       "    </tr>\n",
       "    <tr>\n",
       "      <th>2</th>\n",
       "      <td>20</td>\n",
       "      <td>Bensonhurst East,Brooklyn, New York</td>\n",
       "      <td>40.6146916,-74.0129784</td>\n",
       "    </tr>\n",
       "    <tr>\n",
       "      <th>3</th>\n",
       "      <td>21</td>\n",
       "      <td>Bensonhurst West,Brooklyn, New York</td>\n",
       "      <td>40.6146916,-74.0129784</td>\n",
       "    </tr>\n",
       "    <tr>\n",
       "      <th>4</th>\n",
       "      <td>22</td>\n",
       "      <td>Bloomfield/Emerson Hill,Staten Island, New York</td>\n",
       "      <td>40.6151637,-74.2592761</td>\n",
       "    </tr>\n",
       "  </tbody>\n",
       "</table>\n",
       "</div>"
      ],
      "text/plain": [
       "   id                                          address                Location\n",
       "0   2          Allerton/Pelham Gardens,Bronx, New York  40.8654218,-73.8545318\n",
       "1  14         Bay Terrace/Fort Totten,Queens, New York  40.7920939,-73.7786745\n",
       "2  20              Bensonhurst East,Brooklyn, New York  40.6146916,-74.0129784\n",
       "3  21              Bensonhurst West,Brooklyn, New York  40.6146916,-74.0129784\n",
       "4  22  Bloomfield/Emerson Hill,Staten Island, New York  40.6151637,-74.2592761"
      ]
     },
     "execution_count": 13,
     "metadata": {},
     "output_type": "execute_result"
    }
   ],
   "source": [
    "df2.head()"
   ]
  },
  {
   "cell_type": "code",
   "execution_count": 16,
   "id": "5b1081c6",
   "metadata": {},
   "outputs": [],
   "source": [
    "df2[['Lat', 'Lon']] = df2['Location'].str.split(',', expand=True)\n"
   ]
  },
  {
   "cell_type": "markdown",
   "id": "d5667c46",
   "metadata": {},
   "source": [
    "Fixing Data-Type"
   ]
  },
  {
   "cell_type": "code",
   "execution_count": 21,
   "id": "92c79c86",
   "metadata": {},
   "outputs": [
    {
     "name": "stdout",
     "output_type": "stream",
     "text": [
      "<class 'pandas.core.frame.DataFrame'>\n",
      "RangeIndex: 70 entries, 0 to 69\n",
      "Data columns (total 5 columns):\n",
      " #   Column    Non-Null Count  Dtype  \n",
      "---  ------    --------------  -----  \n",
      " 0   id        70 non-null     int64  \n",
      " 1   address   70 non-null     object \n",
      " 2   Location  69 non-null     object \n",
      " 3   Lat       69 non-null     float64\n",
      " 4   Lon       69 non-null     float64\n",
      "dtypes: float64(2), int64(1), object(2)\n",
      "memory usage: 2.9+ KB\n"
     ]
    }
   ],
   "source": [
    "df2.info()"
   ]
  },
  {
   "cell_type": "code",
   "execution_count": 20,
   "id": "3df95821",
   "metadata": {},
   "outputs": [],
   "source": [
    "df2['Lat'] = pd.to_numeric(df2['Lat'], errors='coerce')\n",
    "df2['Lon'] = pd.to_numeric(df2['Lon'], errors='coerce')"
   ]
  },
  {
   "cell_type": "code",
   "execution_count": 22,
   "id": "d9582b07",
   "metadata": {},
   "outputs": [
    {
     "data": {
      "text/html": [
       "<div>\n",
       "<style scoped>\n",
       "    .dataframe tbody tr th:only-of-type {\n",
       "        vertical-align: middle;\n",
       "    }\n",
       "\n",
       "    .dataframe tbody tr th {\n",
       "        vertical-align: top;\n",
       "    }\n",
       "\n",
       "    .dataframe thead th {\n",
       "        text-align: right;\n",
       "    }\n",
       "</style>\n",
       "<table border=\"1\" class=\"dataframe\">\n",
       "  <thead>\n",
       "    <tr style=\"text-align: right;\">\n",
       "      <th></th>\n",
       "      <th>id</th>\n",
       "      <th>address</th>\n",
       "      <th>Location</th>\n",
       "      <th>Lat</th>\n",
       "      <th>Lon</th>\n",
       "    </tr>\n",
       "  </thead>\n",
       "  <tbody>\n",
       "    <tr>\n",
       "      <th>0</th>\n",
       "      <td>2</td>\n",
       "      <td>Allerton/Pelham Gardens,Bronx, New York</td>\n",
       "      <td>40.8654218,-73.8545318</td>\n",
       "      <td>40.865422</td>\n",
       "      <td>-73.854532</td>\n",
       "    </tr>\n",
       "    <tr>\n",
       "      <th>1</th>\n",
       "      <td>14</td>\n",
       "      <td>Bay Terrace/Fort Totten,Queens, New York</td>\n",
       "      <td>40.7920939,-73.7786745</td>\n",
       "      <td>40.792094</td>\n",
       "      <td>-73.778674</td>\n",
       "    </tr>\n",
       "    <tr>\n",
       "      <th>2</th>\n",
       "      <td>20</td>\n",
       "      <td>Bensonhurst East,Brooklyn, New York</td>\n",
       "      <td>40.6146916,-74.0129784</td>\n",
       "      <td>40.614692</td>\n",
       "      <td>-74.012978</td>\n",
       "    </tr>\n",
       "    <tr>\n",
       "      <th>3</th>\n",
       "      <td>21</td>\n",
       "      <td>Bensonhurst West,Brooklyn, New York</td>\n",
       "      <td>40.6146916,-74.0129784</td>\n",
       "      <td>40.614692</td>\n",
       "      <td>-74.012978</td>\n",
       "    </tr>\n",
       "    <tr>\n",
       "      <th>4</th>\n",
       "      <td>22</td>\n",
       "      <td>Bloomfield/Emerson Hill,Staten Island, New York</td>\n",
       "      <td>40.6151637,-74.2592761</td>\n",
       "      <td>40.615164</td>\n",
       "      <td>-74.259276</td>\n",
       "    </tr>\n",
       "  </tbody>\n",
       "</table>\n",
       "</div>"
      ],
      "text/plain": [
       "   id                                          address  \\\n",
       "0   2          Allerton/Pelham Gardens,Bronx, New York   \n",
       "1  14         Bay Terrace/Fort Totten,Queens, New York   \n",
       "2  20              Bensonhurst East,Brooklyn, New York   \n",
       "3  21              Bensonhurst West,Brooklyn, New York   \n",
       "4  22  Bloomfield/Emerson Hill,Staten Island, New York   \n",
       "\n",
       "                 Location        Lat        Lon  \n",
       "0  40.8654218,-73.8545318  40.865422 -73.854532  \n",
       "1  40.7920939,-73.7786745  40.792094 -73.778674  \n",
       "2  40.6146916,-74.0129784  40.614692 -74.012978  \n",
       "3  40.6146916,-74.0129784  40.614692 -74.012978  \n",
       "4  40.6151637,-74.2592761  40.615164 -74.259276  "
      ]
     },
     "execution_count": 22,
     "metadata": {},
     "output_type": "execute_result"
    }
   ],
   "source": [
    "df2.head()"
   ]
  },
  {
   "cell_type": "code",
   "execution_count": 23,
   "id": "d0343feb",
   "metadata": {},
   "outputs": [
    {
     "name": "stdout",
     "output_type": "stream",
     "text": [
      "<class 'pandas.core.frame.DataFrame'>\n",
      "RangeIndex: 70 entries, 0 to 69\n",
      "Data columns (total 5 columns):\n",
      " #   Column    Non-Null Count  Dtype  \n",
      "---  ------    --------------  -----  \n",
      " 0   id        70 non-null     int64  \n",
      " 1   address   70 non-null     object \n",
      " 2   Location  69 non-null     object \n",
      " 3   Lat       69 non-null     float64\n",
      " 4   Lon       69 non-null     float64\n",
      "dtypes: float64(2), int64(1), object(2)\n",
      "memory usage: 2.9+ KB\n"
     ]
    }
   ],
   "source": [
    "df2.info()"
   ]
  },
  {
   "cell_type": "code",
   "execution_count": 24,
   "id": "e7b5cda5",
   "metadata": {},
   "outputs": [
    {
     "data": {
      "text/html": [
       "<div>\n",
       "<style scoped>\n",
       "    .dataframe tbody tr th:only-of-type {\n",
       "        vertical-align: middle;\n",
       "    }\n",
       "\n",
       "    .dataframe tbody tr th {\n",
       "        vertical-align: top;\n",
       "    }\n",
       "\n",
       "    .dataframe thead th {\n",
       "        text-align: right;\n",
       "    }\n",
       "</style>\n",
       "<table border=\"1\" class=\"dataframe\">\n",
       "  <thead>\n",
       "    <tr style=\"text-align: right;\">\n",
       "      <th></th>\n",
       "      <th>id</th>\n",
       "      <th>address</th>\n",
       "      <th>Lat</th>\n",
       "      <th>Lon</th>\n",
       "    </tr>\n",
       "  </thead>\n",
       "  <tbody>\n",
       "    <tr>\n",
       "      <th>0</th>\n",
       "      <td>2</td>\n",
       "      <td>Allerton/Pelham Gardens,Bronx, New York</td>\n",
       "      <td>40.865422</td>\n",
       "      <td>-73.854532</td>\n",
       "    </tr>\n",
       "    <tr>\n",
       "      <th>1</th>\n",
       "      <td>14</td>\n",
       "      <td>Bay Terrace/Fort Totten,Queens, New York</td>\n",
       "      <td>40.792094</td>\n",
       "      <td>-73.778674</td>\n",
       "    </tr>\n",
       "    <tr>\n",
       "      <th>2</th>\n",
       "      <td>20</td>\n",
       "      <td>Bensonhurst East,Brooklyn, New York</td>\n",
       "      <td>40.614692</td>\n",
       "      <td>-74.012978</td>\n",
       "    </tr>\n",
       "    <tr>\n",
       "      <th>3</th>\n",
       "      <td>21</td>\n",
       "      <td>Bensonhurst West,Brooklyn, New York</td>\n",
       "      <td>40.614692</td>\n",
       "      <td>-74.012978</td>\n",
       "    </tr>\n",
       "    <tr>\n",
       "      <th>4</th>\n",
       "      <td>22</td>\n",
       "      <td>Bloomfield/Emerson Hill,Staten Island, New York</td>\n",
       "      <td>40.615164</td>\n",
       "      <td>-74.259276</td>\n",
       "    </tr>\n",
       "    <tr>\n",
       "      <th>...</th>\n",
       "      <td>...</td>\n",
       "      <td>...</td>\n",
       "      <td>...</td>\n",
       "      <td>...</td>\n",
       "    </tr>\n",
       "    <tr>\n",
       "      <th>65</th>\n",
       "      <td>237</td>\n",
       "      <td>Upper West Side North,Manhattan, New York</td>\n",
       "      <td>40.781824</td>\n",
       "      <td>-73.984160</td>\n",
       "    </tr>\n",
       "    <tr>\n",
       "      <th>66</th>\n",
       "      <td>243</td>\n",
       "      <td>Washington Heights South,Manhattan, New York</td>\n",
       "      <td>40.853142</td>\n",
       "      <td>-73.960543</td>\n",
       "    </tr>\n",
       "    <tr>\n",
       "      <th>67</th>\n",
       "      <td>249</td>\n",
       "      <td>Westchester Village/Unionport,Bronx, New York</td>\n",
       "      <td>40.835407</td>\n",
       "      <td>-73.847046</td>\n",
       "    </tr>\n",
       "    <tr>\n",
       "      <th>68</th>\n",
       "      <td>253</td>\n",
       "      <td>Williamsbridge/Olinville,Bronx, New York: 40 ....</td>\n",
       "      <td>NaN</td>\n",
       "      <td>NaN</td>\n",
       "    </tr>\n",
       "    <tr>\n",
       "      <th>69</th>\n",
       "      <td>255</td>\n",
       "      <td>Williamsburg (South Side),Brooklyn, New York</td>\n",
       "      <td>40.705255</td>\n",
       "      <td>-73.957305</td>\n",
       "    </tr>\n",
       "  </tbody>\n",
       "</table>\n",
       "<p>70 rows × 4 columns</p>\n",
       "</div>"
      ],
      "text/plain": [
       "     id                                            address        Lat  \\\n",
       "0     2            Allerton/Pelham Gardens,Bronx, New York  40.865422   \n",
       "1    14           Bay Terrace/Fort Totten,Queens, New York  40.792094   \n",
       "2    20                Bensonhurst East,Brooklyn, New York  40.614692   \n",
       "3    21                Bensonhurst West,Brooklyn, New York  40.614692   \n",
       "4    22    Bloomfield/Emerson Hill,Staten Island, New York  40.615164   \n",
       "..  ...                                                ...        ...   \n",
       "65  237          Upper West Side North,Manhattan, New York  40.781824   \n",
       "66  243       Washington Heights South,Manhattan, New York  40.853142   \n",
       "67  249      Westchester Village/Unionport,Bronx, New York  40.835407   \n",
       "68  253  Williamsbridge/Olinville,Bronx, New York: 40 ....        NaN   \n",
       "69  255       Williamsburg (South Side),Brooklyn, New York  40.705255   \n",
       "\n",
       "          Lon  \n",
       "0  -73.854532  \n",
       "1  -73.778674  \n",
       "2  -74.012978  \n",
       "3  -74.012978  \n",
       "4  -74.259276  \n",
       "..        ...  \n",
       "65 -73.984160  \n",
       "66 -73.960543  \n",
       "67 -73.847046  \n",
       "68        NaN  \n",
       "69 -73.957305  \n",
       "\n",
       "[70 rows x 4 columns]"
      ]
     },
     "execution_count": 24,
     "metadata": {},
     "output_type": "execute_result"
    }
   ],
   "source": [
    "df2.drop(columns='Location')"
   ]
  },
  {
   "cell_type": "markdown",
   "id": "884b3db8",
   "metadata": {},
   "source": [
    "## Fixing PickUps.csv"
   ]
  },
  {
   "cell_type": "code",
   "execution_count": 60,
   "id": "f3732d1a",
   "metadata": {},
   "outputs": [],
   "source": [
    "import numpy as np"
   ]
  },
  {
   "cell_type": "code",
   "execution_count": 76,
   "id": "46695b6d",
   "metadata": {},
   "outputs": [],
   "source": [
    "df3 = pd.read_csv('PickUps.csv')"
   ]
  },
  {
   "cell_type": "code",
   "execution_count": 77,
   "id": "3fa025de",
   "metadata": {},
   "outputs": [
    {
     "data": {
      "text/html": [
       "<div>\n",
       "<style scoped>\n",
       "    .dataframe tbody tr th:only-of-type {\n",
       "        vertical-align: middle;\n",
       "    }\n",
       "\n",
       "    .dataframe tbody tr th {\n",
       "        vertical-align: top;\n",
       "    }\n",
       "\n",
       "    .dataframe thead th {\n",
       "        text-align: right;\n",
       "    }\n",
       "</style>\n",
       "<table border=\"1\" class=\"dataframe\">\n",
       "  <thead>\n",
       "    <tr style=\"text-align: right;\">\n",
       "      <th></th>\n",
       "      <th>LocationID</th>\n",
       "      <th>Borough</th>\n",
       "      <th>Zone</th>\n",
       "      <th>address</th>\n",
       "      <th>lat</th>\n",
       "      <th>lon</th>\n",
       "    </tr>\n",
       "  </thead>\n",
       "  <tbody>\n",
       "    <tr>\n",
       "      <th>0</th>\n",
       "      <td>1</td>\n",
       "      <td>EWR</td>\n",
       "      <td>Newark Airport</td>\n",
       "      <td>Newark Airport,EWR, New York</td>\n",
       "      <td>40.689064</td>\n",
       "      <td>-74.177255</td>\n",
       "    </tr>\n",
       "    <tr>\n",
       "      <th>1</th>\n",
       "      <td>2</td>\n",
       "      <td>Queens</td>\n",
       "      <td>Jamaica Bay</td>\n",
       "      <td>Jamaica Bay,Queens, New York</td>\n",
       "      <td>40.603994</td>\n",
       "      <td>-73.835412</td>\n",
       "    </tr>\n",
       "    <tr>\n",
       "      <th>2</th>\n",
       "      <td>3</td>\n",
       "      <td>Bronx</td>\n",
       "      <td>Allerton/Pelham Gardens</td>\n",
       "      <td>Allerton/Pelham Gardens,Bronx, New York</td>\n",
       "      <td>NaN</td>\n",
       "      <td>NaN</td>\n",
       "    </tr>\n",
       "    <tr>\n",
       "      <th>3</th>\n",
       "      <td>4</td>\n",
       "      <td>Manhattan</td>\n",
       "      <td>Alphabet City</td>\n",
       "      <td>Alphabet City,Manhattan, New York</td>\n",
       "      <td>40.706964</td>\n",
       "      <td>-73.990459</td>\n",
       "    </tr>\n",
       "    <tr>\n",
       "      <th>4</th>\n",
       "      <td>5</td>\n",
       "      <td>Staten Island</td>\n",
       "      <td>Arden Heights</td>\n",
       "      <td>Arden Heights,Staten Island, New York</td>\n",
       "      <td>40.563700</td>\n",
       "      <td>-74.191603</td>\n",
       "    </tr>\n",
       "  </tbody>\n",
       "</table>\n",
       "</div>"
      ],
      "text/plain": [
       "   LocationID        Borough                     Zone  \\\n",
       "0           1            EWR           Newark Airport   \n",
       "1           2         Queens              Jamaica Bay   \n",
       "2           3          Bronx  Allerton/Pelham Gardens   \n",
       "3           4      Manhattan            Alphabet City   \n",
       "4           5  Staten Island            Arden Heights   \n",
       "\n",
       "                                   address        lat        lon  \n",
       "0             Newark Airport,EWR, New York  40.689064 -74.177255  \n",
       "1             Jamaica Bay,Queens, New York  40.603994 -73.835412  \n",
       "2  Allerton/Pelham Gardens,Bronx, New York        NaN        NaN  \n",
       "3        Alphabet City,Manhattan, New York  40.706964 -73.990459  \n",
       "4    Arden Heights,Staten Island, New York  40.563700 -74.191603  "
      ]
     },
     "execution_count": 77,
     "metadata": {},
     "output_type": "execute_result"
    }
   ],
   "source": [
    "\n",
    "df3.head()"
   ]
  },
  {
   "cell_type": "code",
   "execution_count": 62,
   "id": "bf4c4688",
   "metadata": {},
   "outputs": [],
   "source": [
    "lat , lon = [i for i in df3['lat']] , [i for i in df3['lon']]"
   ]
  },
  {
   "cell_type": "code",
   "execution_count": null,
   "id": "c0ef37f1",
   "metadata": {},
   "outputs": [
    {
     "data": {
      "text/html": [
       "<div>\n",
       "<style scoped>\n",
       "    .dataframe tbody tr th:only-of-type {\n",
       "        vertical-align: middle;\n",
       "    }\n",
       "\n",
       "    .dataframe tbody tr th {\n",
       "        vertical-align: top;\n",
       "    }\n",
       "\n",
       "    .dataframe thead th {\n",
       "        text-align: right;\n",
       "    }\n",
       "</style>\n",
       "<table border=\"1\" class=\"dataframe\">\n",
       "  <thead>\n",
       "    <tr style=\"text-align: right;\">\n",
       "      <th></th>\n",
       "      <th>LocationID</th>\n",
       "      <th>Borough</th>\n",
       "      <th>Zone</th>\n",
       "      <th>address</th>\n",
       "      <th>lat</th>\n",
       "      <th>lon</th>\n",
       "    </tr>\n",
       "  </thead>\n",
       "  <tbody>\n",
       "    <tr>\n",
       "      <th>0</th>\n",
       "      <td>1</td>\n",
       "      <td>EWR</td>\n",
       "      <td>Newark Airport</td>\n",
       "      <td>Newark Airport,EWR, New York</td>\n",
       "      <td>40.689064</td>\n",
       "      <td>-74.177255</td>\n",
       "    </tr>\n",
       "    <tr>\n",
       "      <th>1</th>\n",
       "      <td>2</td>\n",
       "      <td>Queens</td>\n",
       "      <td>Jamaica Bay</td>\n",
       "      <td>Jamaica Bay,Queens, New York</td>\n",
       "      <td>40.865422</td>\n",
       "      <td>-73.854532</td>\n",
       "    </tr>\n",
       "    <tr>\n",
       "      <th>2</th>\n",
       "      <td>3</td>\n",
       "      <td>Bronx</td>\n",
       "      <td>Allerton/Pelham Gardens</td>\n",
       "      <td>Allerton/Pelham Gardens,Bronx, New York</td>\n",
       "      <td>NaN</td>\n",
       "      <td>NaN</td>\n",
       "    </tr>\n",
       "    <tr>\n",
       "      <th>3</th>\n",
       "      <td>4</td>\n",
       "      <td>Manhattan</td>\n",
       "      <td>Alphabet City</td>\n",
       "      <td>Alphabet City,Manhattan, New York</td>\n",
       "      <td>40.706964</td>\n",
       "      <td>-73.990459</td>\n",
       "    </tr>\n",
       "    <tr>\n",
       "      <th>4</th>\n",
       "      <td>5</td>\n",
       "      <td>Staten Island</td>\n",
       "      <td>Arden Heights</td>\n",
       "      <td>Arden Heights,Staten Island, New York</td>\n",
       "      <td>40.563700</td>\n",
       "      <td>-74.191603</td>\n",
       "    </tr>\n",
       "  </tbody>\n",
       "</table>\n",
       "</div>"
      ],
      "text/plain": [
       "   LocationID        Borough                     Zone  \\\n",
       "0           1            EWR           Newark Airport   \n",
       "1           2         Queens              Jamaica Bay   \n",
       "2           3          Bronx  Allerton/Pelham Gardens   \n",
       "3           4      Manhattan            Alphabet City   \n",
       "4           5  Staten Island            Arden Heights   \n",
       "\n",
       "                                   address        lat        lon  \n",
       "0             Newark Airport,EWR, New York  40.689064 -74.177255  \n",
       "1             Jamaica Bay,Queens, New York  40.865422 -73.854532  \n",
       "2  Allerton/Pelham Gardens,Bronx, New York        NaN        NaN  \n",
       "3        Alphabet City,Manhattan, New York  40.706964 -73.990459  \n",
       "4    Arden Heights,Staten Island, New York  40.563700 -74.191603  "
      ]
     },
     "execution_count": 49,
     "metadata": {},
     "output_type": "execute_result"
    }
   ],
   "source": [
    "df3.head()"
   ]
  },
  {
   "cell_type": "code",
   "execution_count": 70,
   "id": "ecef93bc",
   "metadata": {},
   "outputs": [
    {
     "name": "stdout",
     "output_type": "stream",
     "text": [
      "298\n"
     ]
    }
   ],
   "source": [
    "print(len(lat))"
   ]
  },
  {
   "cell_type": "code",
   "execution_count": 75,
   "id": "f677a1b1",
   "metadata": {},
   "outputs": [
    {
     "data": {
      "text/plain": [
       "LocationID     0\n",
       "Borough        0\n",
       "Zone           0\n",
       "address        0\n",
       "lat           38\n",
       "lon           38\n",
       "dtype: int64"
      ]
     },
     "execution_count": 75,
     "metadata": {},
     "output_type": "execute_result"
    }
   ],
   "source": [
    "df3.isna().sum()"
   ]
  },
  {
   "cell_type": "code",
   "execution_count": 79,
   "id": "b3eac705",
   "metadata": {},
   "outputs": [],
   "source": [
    "missing_new = {}\n",
    "for i in range(len(df3['lat'])):\n",
    "    if pd.isna(df3['lat'][i]):\n",
    "        missing_new[df3['LocationID'][i]] = df3['address'][i]"
   ]
  },
  {
   "cell_type": "code",
   "execution_count": 87,
   "id": "f7e105fb",
   "metadata": {},
   "outputs": [],
   "source": [
    "id , add = [], []\n",
    "for i,j in missing_new.items():\n",
    "    id.append(i)\n",
    "    add.append(j)\n",
    "df_new = pd.DataFrame({\n",
    "    'id' : id,\n",
    "    'address' : add\n",
    "})\n",
    "df_new.head()\n",
    "df_new.to_csv('missing.csv')"
   ]
  },
  {
   "cell_type": "code",
   "execution_count": 74,
   "id": "8c0f281f",
   "metadata": {},
   "outputs": [],
   "source": [
    "df2 = df2.sort_values(by='id')\n",
    "df2.to_csv('missingFound.csv')"
   ]
  },
  {
   "cell_type": "code",
   "execution_count": 67,
   "id": "5415270e",
   "metadata": {},
   "outputs": [],
   "source": [
    "latm , lonm = [i for i in df2['Lat']] , [i for i in df2['Lon']]"
   ]
  },
  {
   "cell_type": "code",
   "execution_count": 73,
   "id": "f66361de",
   "metadata": {},
   "outputs": [
    {
     "name": "stdout",
     "output_type": "stream",
     "text": [
      "2\n",
      "14\n",
      "22\n",
      "27\n",
      "38\n",
      "47\n",
      "49\n",
      "52\n",
      "70\n",
      "77\n",
      "86\n",
      "89\n",
      "98\n",
      "101\n",
      "108\n",
      "113\n",
      "125\n",
      "138\n",
      "164\n",
      "166\n",
      "177\n",
      "182\n",
      "196\n",
      "202\n",
      "209\n",
      "226\n",
      "233\n",
      "241\n",
      "248\n",
      "253\n",
      "258\n",
      "262\n",
      "268\n",
      "270\n",
      "273\n",
      "282\n",
      "285\n",
      "288\n",
      "70 38\n"
     ]
    }
   ],
   "source": [
    "index = 0\n",
    "for i in range(len(lat)):\n",
    "    if pd.isna(lat[i]):\n",
    "        index += 1\n",
    "        print(i)\n",
    "print(len(latm),index)"
   ]
  },
  {
   "cell_type": "code",
   "execution_count": 88,
   "id": "d95df950",
   "metadata": {},
   "outputs": [],
   "source": [
    "df2 = pd.read_csv('missing.csv')"
   ]
  },
  {
   "cell_type": "code",
   "execution_count": 90,
   "id": "9b500f50",
   "metadata": {},
   "outputs": [
    {
     "name": "stdout",
     "output_type": "stream",
     "text": [
      "<class 'pandas.core.frame.DataFrame'>\n",
      "RangeIndex: 59 entries, 0 to 58\n",
      "Data columns (total 4 columns):\n",
      " #   Column   Non-Null Count  Dtype  \n",
      "---  ------   --------------  -----  \n",
      " 0   id       59 non-null     int64  \n",
      " 1   address  59 non-null     object \n",
      " 2   lat      59 non-null     float64\n",
      " 3   lon      59 non-null     float64\n",
      "dtypes: float64(2), int64(1), object(1)\n",
      "memory usage: 2.0+ KB\n"
     ]
    }
   ],
   "source": [
    "df2.info()"
   ]
  },
  {
   "cell_type": "code",
   "execution_count": 92,
   "id": "30f01980",
   "metadata": {},
   "outputs": [],
   "source": [
    "# Make sure the key columns are the same type and have no extra spaces\n",
    "df3['LocationID'] = df3['LocationID'].astype(str).str.strip()\n",
    "df2['id'] = df2['id'].astype(str).str.strip()\n",
    "\n",
    "# Create mapping from id to Lat/Lon\n",
    "lat_map = df2.set_index('id')['lat']\n",
    "lon_map = df2.set_index('id')['lon']\n",
    "\n",
    "# Fill missing values in df3['lat'] and df3['lon'] using the mapping\n",
    "df3['lat'] = df3['lat'].combine_first(df3['LocationID'].map(lat_map))\n",
    "df3['lon'] = df3['lon'].combine_first(df3['LocationID'].map(lon_map))"
   ]
  },
  {
   "cell_type": "code",
   "execution_count": 93,
   "id": "2ec509f1",
   "metadata": {},
   "outputs": [
    {
     "data": {
      "text/html": [
       "<div>\n",
       "<style scoped>\n",
       "    .dataframe tbody tr th:only-of-type {\n",
       "        vertical-align: middle;\n",
       "    }\n",
       "\n",
       "    .dataframe tbody tr th {\n",
       "        vertical-align: top;\n",
       "    }\n",
       "\n",
       "    .dataframe thead th {\n",
       "        text-align: right;\n",
       "    }\n",
       "</style>\n",
       "<table border=\"1\" class=\"dataframe\">\n",
       "  <thead>\n",
       "    <tr style=\"text-align: right;\">\n",
       "      <th></th>\n",
       "      <th>LocationID</th>\n",
       "      <th>Borough</th>\n",
       "      <th>Zone</th>\n",
       "      <th>address</th>\n",
       "      <th>lat</th>\n",
       "      <th>lon</th>\n",
       "    </tr>\n",
       "  </thead>\n",
       "  <tbody>\n",
       "    <tr>\n",
       "      <th>0</th>\n",
       "      <td>1</td>\n",
       "      <td>EWR</td>\n",
       "      <td>Newark Airport</td>\n",
       "      <td>Newark Airport,EWR, New York</td>\n",
       "      <td>40.689064</td>\n",
       "      <td>-74.177255</td>\n",
       "    </tr>\n",
       "    <tr>\n",
       "      <th>1</th>\n",
       "      <td>2</td>\n",
       "      <td>Queens</td>\n",
       "      <td>Jamaica Bay</td>\n",
       "      <td>Jamaica Bay,Queens, New York</td>\n",
       "      <td>40.603994</td>\n",
       "      <td>-73.835412</td>\n",
       "    </tr>\n",
       "    <tr>\n",
       "      <th>2</th>\n",
       "      <td>3</td>\n",
       "      <td>Bronx</td>\n",
       "      <td>Allerton/Pelham Gardens</td>\n",
       "      <td>Allerton/Pelham Gardens,Bronx, New York</td>\n",
       "      <td>40.865422</td>\n",
       "      <td>-73.854532</td>\n",
       "    </tr>\n",
       "    <tr>\n",
       "      <th>3</th>\n",
       "      <td>4</td>\n",
       "      <td>Manhattan</td>\n",
       "      <td>Alphabet City</td>\n",
       "      <td>Alphabet City,Manhattan, New York</td>\n",
       "      <td>40.706964</td>\n",
       "      <td>-73.990459</td>\n",
       "    </tr>\n",
       "    <tr>\n",
       "      <th>4</th>\n",
       "      <td>5</td>\n",
       "      <td>Staten Island</td>\n",
       "      <td>Arden Heights</td>\n",
       "      <td>Arden Heights,Staten Island, New York</td>\n",
       "      <td>40.563700</td>\n",
       "      <td>-74.191603</td>\n",
       "    </tr>\n",
       "  </tbody>\n",
       "</table>\n",
       "</div>"
      ],
      "text/plain": [
       "  LocationID        Borough                     Zone  \\\n",
       "0          1            EWR           Newark Airport   \n",
       "1          2         Queens              Jamaica Bay   \n",
       "2          3          Bronx  Allerton/Pelham Gardens   \n",
       "3          4      Manhattan            Alphabet City   \n",
       "4          5  Staten Island            Arden Heights   \n",
       "\n",
       "                                   address        lat        lon  \n",
       "0             Newark Airport,EWR, New York  40.689064 -74.177255  \n",
       "1             Jamaica Bay,Queens, New York  40.603994 -73.835412  \n",
       "2  Allerton/Pelham Gardens,Bronx, New York  40.865422 -73.854532  \n",
       "3        Alphabet City,Manhattan, New York  40.706964 -73.990459  \n",
       "4    Arden Heights,Staten Island, New York  40.563700 -74.191603  "
      ]
     },
     "execution_count": 93,
     "metadata": {},
     "output_type": "execute_result"
    }
   ],
   "source": [
    "df3.head()"
   ]
  },
  {
   "cell_type": "code",
   "execution_count": 94,
   "id": "7704ff6a",
   "metadata": {},
   "outputs": [
    {
     "data": {
      "text/plain": [
       "LocationID    0\n",
       "Borough       0\n",
       "Zone          0\n",
       "address       0\n",
       "lat           0\n",
       "lon           0\n",
       "dtype: int64"
      ]
     },
     "execution_count": 94,
     "metadata": {},
     "output_type": "execute_result"
    }
   ],
   "source": [
    "df3.isna().sum()"
   ]
  },
  {
   "cell_type": "code",
   "execution_count": 95,
   "id": "078d8184",
   "metadata": {},
   "outputs": [],
   "source": [
    "df3.to_csv('PickUps.csv')"
   ]
  },
  {
   "cell_type": "markdown",
   "id": "b3a09cb4",
   "metadata": {},
   "source": [
    "Missing Values Successfully Filled ✓✓"
   ]
  }
 ],
 "metadata": {
  "kernelspec": {
   "display_name": ".venv",
   "language": "python",
   "name": "python3"
  },
  "language_info": {
   "codemirror_mode": {
    "name": "ipython",
    "version": 3
   },
   "file_extension": ".py",
   "mimetype": "text/x-python",
   "name": "python",
   "nbconvert_exporter": "python",
   "pygments_lexer": "ipython3",
   "version": "3.13.2"
  }
 },
 "nbformat": 4,
 "nbformat_minor": 5
}
